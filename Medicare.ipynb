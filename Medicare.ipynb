{
 "cells": [
  {
   "cell_type": "code",
   "execution_count": 35,
   "metadata": {},
   "outputs": [],
   "source": [
    "from google.cloud import bigquery\n",
    "from google.oauth2 import service_account\n",
    "import pandas as pd\n",
    "import re"
   ]
  },
  {
   "cell_type": "code",
   "execution_count": 15,
   "metadata": {},
   "outputs": [],
   "source": [
    "cred=service_account.Credentials.from_service_account_file(\n",
    "    \"service_key.json\"\n",
    ")\n",
    "\n",
    "client=bigquery.Client(credentials=cred,project='bigquery-public-data')"
   ]
  },
  {
   "cell_type": "code",
   "execution_count": 4,
   "metadata": {},
   "outputs": [],
   "source": [
    "sql=\"\"\"\n",
    "select * \n",
    "from bigquery-public-data.cms_medicare.hospital_general_info\n",
    "\"\"\""
   ]
  },
  {
   "cell_type": "code",
   "execution_count": 5,
   "metadata": {},
   "outputs": [],
   "source": [
    "data=client.query(sql).to_dataframe()"
   ]
  },
  {
   "cell_type": "code",
   "execution_count": 28,
   "metadata": {},
   "outputs": [
    {
     "name": "stdout",
     "output_type": "stream",
     "text": [
      "Tables contained in 'cms_medicare':\n"
     ]
    }
   ],
   "source": [
    "dataset_id=\"cms_medicare\"\n",
    "tables=list(client.list_tables(dataset_id))\n",
    "\n",
    "print(\"Tables contained in '{}':\".format(dataset_id))\n",
    "tab_names=[]\n",
    "for table in tables:\n",
    "    tab_names.append(table)\n",
    "    # print(table.table_id)\n",
    "    # print(\"{}.{}.{}\".format(table.project, table.dataset_id, table.table_id))"
   ]
  },
  {
   "cell_type": "code",
   "execution_count": 33,
   "metadata": {},
   "outputs": [
    {
     "name": "stdout",
     "output_type": "stream",
     "text": [
      "home_health_agencies_2013\n"
     ]
    }
   ],
   "source": [
    "new=pd.DataFrame()\n",
    "client=bigquery.Client(credentials=cred,project='silver-rain-325220')\n",
    "for names in tab_names:\n",
    "    print(names.table_id)\n",
    "    new=client.query(\"select * from {}.{}.{}\".format(table.project, table.dataset_id, table.table_id)).to_dataframe()\n",
    "    break\n",
    "\n",
    "client=bigquery.Client(credentials=cred,project='bigquery-public-data')"
   ]
  },
  {
   "cell_type": "code",
   "execution_count": 34,
   "metadata": {},
   "outputs": [
    {
     "name": "stdout",
     "output_type": "stream",
     "text": [
      "2013\n",
      "2014\n",
      "2014\n",
      "info\n",
      "2011\n",
      "2012\n",
      "2013\n",
      "2014\n",
      "2015\n",
      "2013\n",
      "2014\n",
      "2011\n",
      "2012\n",
      "2013\n",
      "2014\n",
      "2015\n",
      "2014\n",
      "2012\n",
      "2013\n",
      "2014\n",
      "2015\n",
      "2013\n",
      "2014\n"
     ]
    }
   ],
   "source": [
    "for medi_name in tab_names:\n",
    "    print(str.split(medi_name.table_id,\"_\")[-1])"
   ]
  },
  {
   "cell_type": "code",
   "execution_count": 16,
   "metadata": {},
   "outputs": [],
   "source": [
    "data_sets=list(client.list_datasets())\n",
    "project=\"bigquery-public-data\""
   ]
  },
  {
   "cell_type": "code",
   "execution_count": null,
   "metadata": {},
   "outputs": [],
   "source": [
    "if data_sets:\n",
    "    print(\"Datasets in project {}:\".format(project))\n",
    "    for dataset in data_sets:\n",
    "        print(\"\\t{}\".format(dataset.dataset_id))\n",
    "else:\n",
    "    print(\"{} project does not contain any data_sets.\".format(project))"
   ]
  },
  {
   "cell_type": "code",
   "execution_count": null,
   "metadata": {},
   "outputs": [],
   "source": []
  }
 ],
 "metadata": {
  "kernelspec": {
   "display_name": "Python 3.10.8 ('Nyame')",
   "language": "python",
   "name": "python3"
  },
  "language_info": {
   "codemirror_mode": {
    "name": "ipython",
    "version": 3
   },
   "file_extension": ".py",
   "mimetype": "text/x-python",
   "name": "python",
   "nbconvert_exporter": "python",
   "pygments_lexer": "ipython3",
   "version": "3.10.8"
  },
  "orig_nbformat": 4,
  "vscode": {
   "interpreter": {
    "hash": "e9f1ccb9209b8690cc46da0be92c5e72f17297eb5acc2a84c130785547e6a0e4"
   }
  }
 },
 "nbformat": 4,
 "nbformat_minor": 2
}
