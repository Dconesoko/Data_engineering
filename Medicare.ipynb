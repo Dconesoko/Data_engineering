{
 "cells": [
  {
   "cell_type": "code",
   "execution_count": 15,
   "metadata": {},
   "outputs": [
    {
     "name": "stderr",
     "output_type": "stream",
     "text": [
      "/home/nanabediako/lib/python3.8/site-packages/thefuzz/fuzz.py:11: UserWarning: Using slow pure-python SequenceMatcher. Install python-Levenshtein to remove this warning\n",
      "  warnings.warn('Using slow pure-python SequenceMatcher. Install python-Levenshtein to remove this warning')\n"
     ]
    }
   ],
   "source": [
    "from google.cloud import bigquery\n",
    "from google.oauth2 import service_account\n",
    "import pandas as pd\n",
    "import re\n",
    "from thefuzz import fuzz\n",
    "from thefuzz import process\n"
   ]
  },
  {
   "cell_type": "code",
   "execution_count": 3,
   "metadata": {},
   "outputs": [],
   "source": [
    "## this is meant to check all communication with bq\n",
    "cred=service_account.Credentials.from_service_account_file(\n",
    "    \"service_key.json\"\n",
    ")\n",
    "\n",
    "client=bigquery.Client(credentials=cred,project='silver-rain-325220')\n",
    "\n",
    "sql=\"\"\"\n",
    "select * \n",
    "from bigquery-public-data.cms_medicare.hospital_general_info\n",
    "\"\"\"\n",
    "\n",
    "data=client.query(sql).to_dataframe()"
   ]
  },
  {
   "cell_type": "code",
   "execution_count": 13,
   "metadata": {},
   "outputs": [],
   "source": [
    "## we can provide a list of available datasets to sample \n",
    "def get_tables(dataset_id):\n",
    "    _client=bigquery.Client(credentials=cred,project='bigquery-public-data')\n",
    "    return list(_client.list_tables(dataset_id))\n",
    "\n",
    "def get_table_names(table_object):\n",
    "    # print(\"Tables contained in '{}':\".format(table_object.dataset_id))\n",
    "    tab_names=[]\n",
    "    for table in table_object:\n",
    "        tab_names.append(table.table_id)\n",
    "    return tab_names\n",
    "   \n",
    "def unique_tables(dataset_id):\n",
    "    \n",
    "    names=[]#use regex to proceed\n",
    "    for medi_name in table_object:\n",
    "        names.append(medi_name.table_id[:-5])\n",
    "        names=pd.Series(names,name=\"Table_names\").unique().tolist()\n"
   ]
  },
  {
   "cell_type": "code",
   "execution_count": 33,
   "metadata": {},
   "outputs": [
    {
     "name": "stdout",
     "output_type": "stream",
     "text": [
      "home_health_agencies_2013\n"
     ]
    }
   ],
   "source": [
    "new=pd.DataFrame()\n",
    "client=bigquery.Client(credentials=cred,project='silver-rain-325220')\n",
    "for names in tab_names:\n",
    "    print(names.table_id)\n",
    "    new=client.query(\"select * from {}.{}.{}\".format(table.project, table.dataset_id, table.table_id)).to_dataframe()\n",
    "    break\n",
    "\n",
    "client=bigquery.Client(credentials=cred,project='bigquery-public-data')"
   ]
  },
  {
   "cell_type": "code",
   "execution_count": 52,
   "metadata": {},
   "outputs": [],
   "source": [
    "names=[]#use regex to proceed\n",
    "for medi_name in tab_names:\n",
    "    names.append(medi_name.table_id[:-5])\n",
    "    names=pd.Series(names,name=\"Table_names\").unique().tolist()\n",
    "\n",
    "\n"
   ]
  },
  {
   "cell_type": "code",
   "execution_count": 70,
   "metadata": {},
   "outputs": [],
   "source": [
    "\n",
    "empt=dict()\n",
    "for i in names:\n",
    "    empt[i]=[]\n",
    "for ls in names:\n",
    "    for table in tab_names:\n",
    "       if table.table_id[:-5]==ls:\n",
    "            empt[ls].append(table.table_id)\n"
   ]
  },
  {
   "cell_type": "code",
   "execution_count": 80,
   "metadata": {},
   "outputs": [],
   "source": [
    "def ingest(table_name)->pd.DataFrame:\n",
    "    _client=bigquery.Client(credentials=cred,project='silver-rain-325220')\n",
    "    data=_client.query(\"select * from {}.{}.{}\".format(table.project, table.dataset_id, table.table_id)).to_dataframe()\n",
    "    return data\n",
    "\n",
    "class count_calls:\n",
    "    def __init__(self,func) -> None:\n",
    "        self._count=0"
   ]
  },
  {
   "cell_type": "code",
   "execution_count": 75,
   "metadata": {},
   "outputs": [
    {
     "name": "stdout",
     "output_type": "stream",
     "text": [
      "home_health_agencies\n",
      "hospice_providers\n",
      "hospital_general\n",
      "inpatient_charges\n",
      "nursing_facilities\n",
      "outpatient_charges\n",
      "part_d_prescriber\n",
      "physicians_and_other_supplier\n",
      "referring_durable_medical_equip\n"
     ]
    }
   ],
   "source": [
    "for val in empt.keys():\n",
    "    for ev_tab in empt.val:\n",
    "        \n",
    "\n",
    "## Build function to union tables and use it to concat the tables"
   ]
  },
  {
   "cell_type": "code",
   "execution_count": 69,
   "metadata": {},
   "outputs": [
    {
     "data": {
      "text/plain": [
       "{'home_health_agencies': [],\n",
       " 'hospice_providers': [],\n",
       " 'hospital_general': [],\n",
       " 'inpatient_charges': [],\n",
       " 'nursing_facilities': [],\n",
       " 'outpatient_charges': [],\n",
       " 'part_d_prescriber': [],\n",
       " 'physicians_and_other_supplier': [],\n",
       " 'referring_durable_medical_equip': []}"
      ]
     },
     "execution_count": 69,
     "metadata": {},
     "output_type": "execute_result"
    }
   ],
   "source": [
    "empt=dict()\n",
    "for i in names:\n",
    "    empt[i]=[]\n",
    "\n",
    "empt"
   ]
  },
  {
   "cell_type": "code",
   "execution_count": 16,
   "metadata": {},
   "outputs": [],
   "source": [
    "data_sets=list(client.list_datasets())\n",
    "project=\"bigquery-public-data\""
   ]
  },
  {
   "cell_type": "code",
   "execution_count": null,
   "metadata": {},
   "outputs": [],
   "source": [
    "if data_sets:\n",
    "    print(\"Datasets in project {}:\".format(project))\n",
    "    for dataset in data_sets:\n",
    "        print(\"\\t{}\".format(dataset.dataset_id))\n",
    "else:\n",
    "    print(\"{} project does not contain any data_sets.\".format(project))"
   ]
  },
  {
   "cell_type": "code",
   "execution_count": 58,
   "metadata": {},
   "outputs": [
    {
     "ename": "AttributeError",
     "evalue": "'dict' object has no attribute 'name'",
     "output_type": "error",
     "traceback": [
      "\u001b[1;31m---------------------------------------------------------------------------\u001b[0m",
      "\u001b[1;31mAttributeError\u001b[0m                            Traceback (most recent call last)",
      "\u001b[1;32mc:\\Users\\dcone\\Desktop\\Data Engineering\\Medicare.ipynb Cell 11\u001b[0m in \u001b[0;36m<cell line: 1>\u001b[1;34m()\u001b[0m\n\u001b[1;32m----> <a href='vscode-notebook-cell:/c%3A/Users/dcone/Desktop/Data%20Engineering/Medicare.ipynb#W5sZmlsZQ%3D%3D?line=0'>1</a>\u001b[0m empt\u001b[39m.\u001b[39mname\u001b[39m=\u001b[39m\u001b[39m2\u001b[39m\n",
      "\u001b[1;31mAttributeError\u001b[0m: 'dict' object has no attribute 'name'"
     ]
    }
   ],
   "source": []
  },
  {
   "cell_type": "code",
   "execution_count": 76,
   "metadata": {},
   "outputs": [
    {
     "data": {
      "text/plain": [
       "{'home_health_agencies': ['home_health_agencies_2013',\n",
       "  'home_health_agencies_2014'],\n",
       " 'hospice_providers': ['hospice_providers_2014'],\n",
       " 'hospital_general': ['hospital_general_info'],\n",
       " 'inpatient_charges': ['inpatient_charges_2011',\n",
       "  'inpatient_charges_2012',\n",
       "  'inpatient_charges_2013',\n",
       "  'inpatient_charges_2014',\n",
       "  'inpatient_charges_2015'],\n",
       " 'nursing_facilities': ['nursing_facilities_2013', 'nursing_facilities_2014'],\n",
       " 'outpatient_charges': ['outpatient_charges_2011',\n",
       "  'outpatient_charges_2012',\n",
       "  'outpatient_charges_2013',\n",
       "  'outpatient_charges_2014',\n",
       "  'outpatient_charges_2015'],\n",
       " 'part_d_prescriber': ['part_d_prescriber_2014'],\n",
       " 'physicians_and_other_supplier': ['physicians_and_other_supplier_2012',\n",
       "  'physicians_and_other_supplier_2013',\n",
       "  'physicians_and_other_supplier_2014',\n",
       "  'physicians_and_other_supplier_2015'],\n",
       " 'referring_durable_medical_equip': ['referring_durable_medical_equip_2013',\n",
       "  'referring_durable_medical_equip_2014']}"
      ]
     },
     "execution_count": 76,
     "metadata": {},
     "output_type": "execute_result"
    }
   ],
   "source": [
    "empt"
   ]
  },
  {
   "cell_type": "code",
   "execution_count": 81,
   "metadata": {},
   "outputs": [],
   "source": [
    "union=pd.concat([ingest(tabs) for tabs in empt['outpatient_charges']])"
   ]
  },
  {
   "cell_type": "code",
   "execution_count": 82,
   "metadata": {},
   "outputs": [
    {
     "data": {
      "text/html": [
       "<div>\n",
       "<style scoped>\n",
       "    .dataframe tbody tr th:only-of-type {\n",
       "        vertical-align: middle;\n",
       "    }\n",
       "\n",
       "    .dataframe tbody tr th {\n",
       "        vertical-align: top;\n",
       "    }\n",
       "\n",
       "    .dataframe thead th {\n",
       "        text-align: right;\n",
       "    }\n",
       "</style>\n",
       "<table border=\"1\" class=\"dataframe\">\n",
       "  <thead>\n",
       "    <tr style=\"text-align: right;\">\n",
       "      <th></th>\n",
       "      <th>referring_npi</th>\n",
       "      <th>provider_last_name</th>\n",
       "      <th>provider_first_name</th>\n",
       "      <th>provider_middle_initial</th>\n",
       "      <th>provider_credentials</th>\n",
       "      <th>provider_gender</th>\n",
       "      <th>provider_entity_code</th>\n",
       "      <th>provider_street_1</th>\n",
       "      <th>provider_street_2</th>\n",
       "      <th>provider_city</th>\n",
       "      <th>...</th>\n",
       "      <th>drug_and_nutritional_suppression_indicator</th>\n",
       "      <th>number_of_drug_and_nutritional_products_suppliers</th>\n",
       "      <th>number_of_drug_and_nutritional_products_hcpcs</th>\n",
       "      <th>number_of_drug_and_nutritional_products_beneficiaries</th>\n",
       "      <th>number_of_drug_and_nutritional_products_claims</th>\n",
       "      <th>number_of_drug_and_nutritional_products_services</th>\n",
       "      <th>drug_and_nutritional_products_submitted_charges</th>\n",
       "      <th>drug_and_nutritional_products_medicare_allowed_amount</th>\n",
       "      <th>drug_and_nutritional_products_medicare_payment_amount</th>\n",
       "      <th>drug_and_nutritional_products_medicare_standard_payment_amount</th>\n",
       "    </tr>\n",
       "  </thead>\n",
       "  <tbody>\n",
       "    <tr>\n",
       "      <th>0</th>\n",
       "      <td>1184696999</td>\n",
       "      <td>CHIEN</td>\n",
       "      <td>NORMAN</td>\n",
       "      <td>T</td>\n",
       "      <td>MD</td>\n",
       "      <td>M</td>\n",
       "      <td>I</td>\n",
       "      <td>625 S FAIR OAKS AVE</td>\n",
       "      <td>SUITE 245</td>\n",
       "      <td>PASADENA</td>\n",
       "      <td>...</td>\n",
       "      <td>None</td>\n",
       "      <td>10</td>\n",
       "      <td>10</td>\n",
       "      <td>16</td>\n",
       "      <td>98</td>\n",
       "      <td>38319</td>\n",
       "      <td>44053.57</td>\n",
       "      <td>30763.55</td>\n",
       "      <td>24038.42</td>\n",
       "      <td>24038.42</td>\n",
       "    </tr>\n",
       "    <tr>\n",
       "      <th>1</th>\n",
       "      <td>1235212879</td>\n",
       "      <td>PANTAGIS</td>\n",
       "      <td>STEFANOS</td>\n",
       "      <td>None</td>\n",
       "      <td>MD</td>\n",
       "      <td>M</td>\n",
       "      <td>I</td>\n",
       "      <td>810 MAIN ST</td>\n",
       "      <td>None</td>\n",
       "      <td>HACKENSACK</td>\n",
       "      <td>...</td>\n",
       "      <td>None</td>\n",
       "      <td>16</td>\n",
       "      <td>12</td>\n",
       "      <td>27</td>\n",
       "      <td>209</td>\n",
       "      <td>39594</td>\n",
       "      <td>116372.68</td>\n",
       "      <td>32934.01</td>\n",
       "      <td>25624.29</td>\n",
       "      <td>25624.29</td>\n",
       "    </tr>\n",
       "    <tr>\n",
       "      <th>2</th>\n",
       "      <td>1831214535</td>\n",
       "      <td>MORAN</td>\n",
       "      <td>KURT</td>\n",
       "      <td>P</td>\n",
       "      <td>MD</td>\n",
       "      <td>M</td>\n",
       "      <td>I</td>\n",
       "      <td>10 GREENRIDGE STREET</td>\n",
       "      <td>SUITE#2</td>\n",
       "      <td>SCRANTON</td>\n",
       "      <td>...</td>\n",
       "      <td>None</td>\n",
       "      <td>7</td>\n",
       "      <td>11</td>\n",
       "      <td>12</td>\n",
       "      <td>55</td>\n",
       "      <td>3975</td>\n",
       "      <td>12434.58</td>\n",
       "      <td>4295.21</td>\n",
       "      <td>3073.06</td>\n",
       "      <td>3073.06</td>\n",
       "    </tr>\n",
       "    <tr>\n",
       "      <th>3</th>\n",
       "      <td>1013999036</td>\n",
       "      <td>HANIF</td>\n",
       "      <td>MUHAMMAD</td>\n",
       "      <td>None</td>\n",
       "      <td>M.D.</td>\n",
       "      <td>M</td>\n",
       "      <td>I</td>\n",
       "      <td>13325 HARGRAVE RD</td>\n",
       "      <td>180</td>\n",
       "      <td>HOUSTON</td>\n",
       "      <td>...</td>\n",
       "      <td>None</td>\n",
       "      <td>19</td>\n",
       "      <td>11</td>\n",
       "      <td>23</td>\n",
       "      <td>124</td>\n",
       "      <td>20680</td>\n",
       "      <td>89719.30</td>\n",
       "      <td>21965.10</td>\n",
       "      <td>16968.87</td>\n",
       "      <td>16968.87</td>\n",
       "    </tr>\n",
       "    <tr>\n",
       "      <th>4</th>\n",
       "      <td>1750394060</td>\n",
       "      <td>HABERMANN</td>\n",
       "      <td>RALF</td>\n",
       "      <td>C</td>\n",
       "      <td>MD</td>\n",
       "      <td>M</td>\n",
       "      <td>I</td>\n",
       "      <td>3601 THE VANDERBILT CLINIC</td>\n",
       "      <td>None</td>\n",
       "      <td>NASHVILLE</td>\n",
       "      <td>...</td>\n",
       "      <td>None</td>\n",
       "      <td>11</td>\n",
       "      <td>19</td>\n",
       "      <td>26</td>\n",
       "      <td>262</td>\n",
       "      <td>75400</td>\n",
       "      <td>400511.00</td>\n",
       "      <td>125583.66</td>\n",
       "      <td>98257.38</td>\n",
       "      <td>98257.38</td>\n",
       "    </tr>\n",
       "  </tbody>\n",
       "</table>\n",
       "<p>5 rows × 54 columns</p>\n",
       "</div>"
      ],
      "text/plain": [
       "  referring_npi provider_last_name provider_first_name  \\\n",
       "0    1184696999              CHIEN              NORMAN   \n",
       "1    1235212879           PANTAGIS            STEFANOS   \n",
       "2    1831214535              MORAN                KURT   \n",
       "3    1013999036              HANIF            MUHAMMAD   \n",
       "4    1750394060          HABERMANN                RALF   \n",
       "\n",
       "  provider_middle_initial provider_credentials provider_gender  \\\n",
       "0                       T                   MD               M   \n",
       "1                    None                   MD               M   \n",
       "2                       P                   MD               M   \n",
       "3                    None                 M.D.               M   \n",
       "4                       C                   MD               M   \n",
       "\n",
       "  provider_entity_code           provider_street_1 provider_street_2  \\\n",
       "0                    I         625 S FAIR OAKS AVE         SUITE 245   \n",
       "1                    I                 810 MAIN ST              None   \n",
       "2                    I        10 GREENRIDGE STREET           SUITE#2   \n",
       "3                    I           13325 HARGRAVE RD               180   \n",
       "4                    I  3601 THE VANDERBILT CLINIC              None   \n",
       "\n",
       "  provider_city  ... drug_and_nutritional_suppression_indicator  \\\n",
       "0      PASADENA  ...                                       None   \n",
       "1    HACKENSACK  ...                                       None   \n",
       "2      SCRANTON  ...                                       None   \n",
       "3       HOUSTON  ...                                       None   \n",
       "4     NASHVILLE  ...                                       None   \n",
       "\n",
       "  number_of_drug_and_nutritional_products_suppliers  \\\n",
       "0                                                10   \n",
       "1                                                16   \n",
       "2                                                 7   \n",
       "3                                                19   \n",
       "4                                                11   \n",
       "\n",
       "  number_of_drug_and_nutritional_products_hcpcs  \\\n",
       "0                                            10   \n",
       "1                                            12   \n",
       "2                                            11   \n",
       "3                                            11   \n",
       "4                                            19   \n",
       "\n",
       "  number_of_drug_and_nutritional_products_beneficiaries  \\\n",
       "0                                                 16      \n",
       "1                                                 27      \n",
       "2                                                 12      \n",
       "3                                                 23      \n",
       "4                                                 26      \n",
       "\n",
       "  number_of_drug_and_nutritional_products_claims  \\\n",
       "0                                             98   \n",
       "1                                            209   \n",
       "2                                             55   \n",
       "3                                            124   \n",
       "4                                            262   \n",
       "\n",
       "   number_of_drug_and_nutritional_products_services  \\\n",
       "0                                             38319   \n",
       "1                                             39594   \n",
       "2                                              3975   \n",
       "3                                             20680   \n",
       "4                                             75400   \n",
       "\n",
       "   drug_and_nutritional_products_submitted_charges  \\\n",
       "0                                         44053.57   \n",
       "1                                        116372.68   \n",
       "2                                         12434.58   \n",
       "3                                         89719.30   \n",
       "4                                        400511.00   \n",
       "\n",
       "   drug_and_nutritional_products_medicare_allowed_amount  \\\n",
       "0                                           30763.55       \n",
       "1                                           32934.01       \n",
       "2                                            4295.21       \n",
       "3                                           21965.10       \n",
       "4                                          125583.66       \n",
       "\n",
       "   drug_and_nutritional_products_medicare_payment_amount  \\\n",
       "0                                           24038.42       \n",
       "1                                           25624.29       \n",
       "2                                            3073.06       \n",
       "3                                           16968.87       \n",
       "4                                           98257.38       \n",
       "\n",
       "   drug_and_nutritional_products_medicare_standard_payment_amount  \n",
       "0                                           24038.42               \n",
       "1                                           25624.29               \n",
       "2                                            3073.06               \n",
       "3                                           16968.87               \n",
       "4                                           98257.38               \n",
       "\n",
       "[5 rows x 54 columns]"
      ]
     },
     "execution_count": 82,
     "metadata": {},
     "output_type": "execute_result"
    }
   ],
   "source": [
    "union.head()"
   ]
  },
  {
   "cell_type": "code",
   "execution_count": null,
   "metadata": {},
   "outputs": [],
   "source": [
    "a=get_table_names(get_tables(\"cms_medicare\"))\n",
    "for tabs in a:\n",
    "    for deux in a:\n",
    "        comp=fuzz.ratio(tabs,deux)\n",
    "        print(\"{} is {} similar to {}\".format(tabs,comp,deux))\n",
    "\n",
    "    "
   ]
  },
  {
   "cell_type": "code",
   "execution_count": 21,
   "metadata": {},
   "outputs": [
    {
     "data": {
      "text/plain": [
       "'hospice providers'"
      ]
     },
     "execution_count": 21,
     "metadata": {},
     "output_type": "execute_result"
    }
   ],
   "source": [
    "b='hospice_providers'.replace('_',' ')\n",
    "b"
   ]
  },
  {
   "cell_type": "code",
   "execution_count": 24,
   "metadata": {},
   "outputs": [
    {
     "data": {
      "text/plain": [
       "['hospice providers', 'nursing facilities']"
      ]
     },
     "execution_count": 24,
     "metadata": {},
     "output_type": "execute_result"
    }
   ],
   "source": [
    "c=map(lambda b: b.replace('_',' '),['hospice_providers','nursing_facilities'])\n",
    "list(c)"
   ]
  },
  {
   "cell_type": "code",
   "execution_count": null,
   "metadata": {},
   "outputs": [],
   "source": []
  }
 ],
 "metadata": {
  "kernelspec": {
   "display_name": "Python 3.8.10 ('nanabediako')",
   "language": "python",
   "name": "python3"
  },
  "language_info": {
   "codemirror_mode": {
    "name": "ipython",
    "version": 3
   },
   "file_extension": ".py",
   "mimetype": "text/x-python",
   "name": "python",
   "nbconvert_exporter": "python",
   "pygments_lexer": "ipython3",
   "version": "3.8.10"
  },
  "orig_nbformat": 4,
  "vscode": {
   "interpreter": {
    "hash": "5213ef8a11dbb33a114203809037363462af4e5e1273d66f0048a3ac8e49e919"
   }
  }
 },
 "nbformat": 4,
 "nbformat_minor": 2
}
